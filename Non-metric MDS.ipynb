{
 "cells": [
  {
   "cell_type": "code",
   "execution_count": 63,
   "metadata": {},
   "outputs": [],
   "source": [
    "import numpy as np\n",
    "from sklearn.base import BaseEstimator\n",
    "from sklearn.metrics import euclidean_distances\n",
    "from sklearn.utils import check_random_state, check_array, check_symmetric\n",
    "#from sklearn.externals.joblib import Parallel, delayed, effective_n_jobs\n",
    "from sklearn.isotonic import IsotonicRegression\n",
    "\n",
    "def NMDSfunc(dissimilarities, n_dimensions=2, max_iter=300, verbose=False, eps=1e-3, random_state=None):\n",
    "    '''\n",
    "    dissimilarities: matrix\n",
    "    eps: used for convergence\n",
    "    '''\n",
    "    dissimilarities = check_symmetric(dissimilarities, raise_exception=True)\n",
    "    n_samples = dissimilarities.shape[0]\n",
    "    random_state = check_random_state(random_state)\n",
    "\n",
    "    sim_flat = ((1 - np.tri(n_samples)) * dissimilarities).ravel()\n",
    "    sim_flat_w = sim_flat[sim_flat != 0]\n",
    "    #Random initial configuration\n",
    "    X = random_state.rand(n_samples * n_dimensions)\n",
    "    X = X.reshape((n_samples, n_dimensions))\n",
    "\n",
    "    old_stress = None\n",
    "    ir = IsotonicRegression()\n",
    "    for it in range(max_iter):\n",
    "        # Compute distance and monotonic regression\n",
    "        dis = euclidean_distances(X)\n",
    "        dis_flat = dis.ravel()\n",
    "        dis_flat_w = dis_flat[sim_flat != 0]\n",
    "\n",
    "        # Find disparities using monotonic regression\n",
    "        disparities_flat = ir.fit_transform(sim_flat_w, dis_flat_w)\n",
    "        disparities = dis_flat.copy()\n",
    "        disparities[sim_flat != 0] = disparities_flat\n",
    "        disparities = disparities.reshape((n_samples, n_samples))\n",
    "        disparities *= np.sqrt((n_samples * (n_samples - 1) / 2) / (disparities ** 2).sum())\n",
    "        # Compute stress\n",
    "        stress = ((dis.ravel() - disparities.ravel()) ** 2).sum() / 2\n",
    "\n",
    "        # Update X using the Guttman transform\n",
    "        dis[dis == 0] = 1e-5\n",
    "        ratio = disparities / dis\n",
    "        B = - ratio\n",
    "        B[np.arange(len(B)), np.arange(len(B))] += ratio.sum(axis=1)\n",
    "        X = 1. / n_samples * np.dot(B, X)\n",
    "\n",
    "        dis = np.sqrt((X ** 2).sum(axis=1)).sum()\n",
    "        if verbose:\n",
    "            print('iteration: %d, stress %s' % (it, stress))\n",
    "        if old_stress is not None:\n",
    "            if(old_stress - stress / dis) < eps:\n",
    "                if verbose:\n",
    "                    print('convergence: breaking at iteration %d with stress %s' % (it,stress))\n",
    "                break\n",
    "        old_stress = stress / dis\n",
    "\n",
    "    return X, stress, it + 1\n",
    "\n",
    "\n",
    "def NMDS(dissimilarities, n_dimensions=2, n_init=4,\n",
    "            max_iter=300, verbose=False, eps=1e-3, random_state=None):\n",
    "    \"\"\"\n",
    "    Multiple(n_init) iterations to find the best stress at a particular dimension\n",
    "    \"\"\"\n",
    "    dissimilarities = check_array(dissimilarities)\n",
    "    random_state = check_random_state(random_state)\n",
    "\n",
    "    best_pos, best_stress = None, None\n",
    "    for it in range(n_init):\n",
    "        pos, stress, n_iter_ = NMDSfunc(dissimilarities, n_dimensions=n_dimensions, max_iter=max_iter, verbose=verbose,\n",
    "                eps=eps, random_state=random_state)\n",
    "        #print(pos)\n",
    "        print(stress)\n",
    "        if best_stress is None or stress < best_stress:\n",
    "            best_stress = stress\n",
    "            best_pos = pos.copy()\n",
    "            best_iter = n_iter_\n",
    "            \n",
    "    return best_pos, best_stress, best_iter\n",
    "\n",
    "\n",
    "class MDS():\n",
    "    def __init__(self, n_dimensions=2,  n_init=4,\n",
    "                 max_iter=300, verbose=False, eps=1e-3,\n",
    "                 random_state=None):\n",
    "        self.n_dimensions = n_dimensions\n",
    "        self.n_init = n_init\n",
    "        self.max_iter = max_iter\n",
    "        self.eps = eps\n",
    "        self.verbose = verbose\n",
    "        self.random_state = random_state\n",
    "\n",
    "    def fit(self, X, y=None):\n",
    "      \n",
    "        #self.fit_transform(X)\n",
    "        X = check_array(X)\n",
    "        self.dissimilarity_matrix_ = X\n",
    "        \n",
    "        self.embedding, self.stress, self.n_iter = NMDS(self.dissimilarity_matrix_,\n",
    "            n_dimensions=self.n_dimensions, n_init=self.n_init,\n",
    "            max_iter=self.max_iter, verbose=self.verbose,\n",
    "            eps=self.eps, random_state=self.random_state)\n",
    "        \n",
    "        return self"
   ]
  },
  {
   "cell_type": "code",
   "execution_count": 64,
   "metadata": {},
   "outputs": [
    {
     "name": "stdout",
     "output_type": "stream",
     "text": [
      "0.00455517706873\n",
      "0.00568620527718\n",
      "0.00360615225171\n",
      "0.00216097996829\n"
     ]
    }
   ],
   "source": [
    "sim = np.array([[0, 5, 3, 4],\n",
    "                [5, 0, 2, 2],\n",
    "                [3, 2, 0, 1],\n",
    "                [4, 2, 1, 0]])\n",
    "mds_clf = MDS()\n",
    "a = mds_clf.fit(sim)"
   ]
  },
  {
   "cell_type": "code",
   "execution_count": 65,
   "metadata": {},
   "outputs": [
    {
     "data": {
      "text/plain": [
       "0.0021609799682891944"
      ]
     },
     "execution_count": 65,
     "metadata": {},
     "output_type": "execute_result"
    }
   ],
   "source": [
    "a.stress"
   ]
  },
  {
   "cell_type": "code",
   "execution_count": 66,
   "metadata": {},
   "outputs": [
    {
     "data": {
      "text/plain": [
       "array([[-0.51171021, -0.12542663],\n",
       "       [ 0.50459287,  0.09042339],\n",
       "       [ 0.04074435, -0.29824396],\n",
       "       [-0.04095825,  0.3481076 ]])"
      ]
     },
     "execution_count": 66,
     "metadata": {},
     "output_type": "execute_result"
    }
   ],
   "source": [
    "a.embedding"
   ]
  },
  {
   "cell_type": "code",
   "execution_count": 67,
   "metadata": {},
   "outputs": [
    {
     "name": "stdout",
     "output_type": "stream",
     "text": [
      "0.763746574026\n",
      "0.94772071077\n",
      "0.52778551819\n",
      "0.612545026295\n"
     ]
    }
   ],
   "source": [
    "sim2 = np.array([[0, 1, 4, 5, 3, 4, 2, 8, 8, 5, 7, 1],\n",
    "                [1, 0, 3, 8, 2, 6, 2, 7, 8, 8, 7, 2],\n",
    "                [4, 3, 0, 7, 2, 3, 3, 7, 8, 6, 4, 3],\n",
    "                [5, 8, 7, 0, 8, 9, 3, 8, 2, 2, 9, 5],\n",
    "                [3, 2, 2, 8, 0, 6, 4, 8, 9, 6, 4, 2],\n",
    "                [4, 6, 3, 9, 6, 0, 1, 3, 9, 8, 5, 3],\n",
    "                [2, 2, 3, 3, 4, 1, 0, 4, 3, 6, 7, 1],\n",
    "                [8, 7, 7, 8, 8, 3, 4, 0, 9, 6, 9, 5],\n",
    "                [8, 8, 8, 2, 9, 9, 3, 9, 0, 4, 9, 9],\n",
    "                [5, 8, 6, 2, 6, 8, 6, 6, 4, 0, 4, 3],\n",
    "                [7, 7, 4, 9, 4, 5, 7, 9, 9, 4, 0, 6],\n",
    "                [1, 2, 3, 5, 2, 3, 1, 5, 9, 3, 6, 0]])\n",
    "mds_2 = MDS(n_dimensions=4)\n",
    "b = mds_2.fit(sim2)\n"
   ]
  },
  {
   "cell_type": "code",
   "execution_count": 68,
   "metadata": {},
   "outputs": [
    {
     "data": {
      "text/plain": [
       "0.52778551818987518"
      ]
     },
     "execution_count": 68,
     "metadata": {},
     "output_type": "execute_result"
    }
   ],
   "source": [
    "b.stress"
   ]
  },
  {
   "cell_type": "code",
   "execution_count": 69,
   "metadata": {},
   "outputs": [
    {
     "name": "stdout",
     "output_type": "stream",
     "text": [
      "5.00819593764\n",
      "5.52146148815\n",
      "4.66860175973\n",
      "4.05828817639\n",
      "2.37781219487\n",
      "2.12287849908\n",
      "2.32413494542\n",
      "3.14245920246\n",
      "0.827824971442\n",
      "0.887896083388\n",
      "1.44874899525\n",
      "1.37563201384\n",
      "0.648641795892\n",
      "0.868577490965\n",
      "0.33417083569\n",
      "0.937689612324\n",
      "0.434484652225\n",
      "0.310639960646\n",
      "0.607136444039\n",
      "0.594548555239\n",
      "0.384825930397\n",
      "0.632477534911\n",
      "0.409056291966\n",
      "0.281648969797\n",
      "0.406314332752\n",
      "0.27979877505\n",
      "0.134718314875\n",
      "0.315800252407\n",
      "0.134931210885\n",
      "0.231837198166\n",
      "0.244590567412\n",
      "0.272076108706\n",
      "0.19600683592\n",
      "0.189796325615\n",
      "0.187995777286\n",
      "0.117379841531\n",
      "0.199954489019\n",
      "0.147362356211\n",
      "0.134880828786\n",
      "0.15248717618\n",
      "0.134828689347\n",
      "0.128596621855\n",
      "0.139388384365\n",
      "0.13577860186\n",
      "0.129695375957\n",
      "0.11246954555\n",
      "0.149057286608\n",
      "0.104720124687\n",
      "0.170505341848\n",
      "0.146778627885\n",
      "0.117009980621\n",
      "0.158717010155\n",
      "0.114406309315\n",
      "0.1113715348\n",
      "0.0885778377139\n",
      "0.0923920837029\n"
     ]
    }
   ],
   "source": [
    "output = []\n",
    "for i in range(1,15):\n",
    "    model = MDS(n_dimensions=i)\n",
    "    b = model.fit(sim2)\n",
    "    output.append(b)\n"
   ]
  },
  {
   "cell_type": "code",
   "execution_count": 70,
   "metadata": {},
   "outputs": [
    {
     "name": "stderr",
     "output_type": "stream",
     "text": [
      "/opt/conda/lib/python3.6/site-packages/matplotlib/pyplot.py:3363: RuntimeWarning: Second argument 'y' is ambiguous: could be a color spec but is in data; using as data.  Either rename the entry in data or use three arguments to plot.\n",
      "  ret = ax.plot(*args, **kwargs)\n"
     ]
    },
    {
     "data": {
      "image/png": "[encoded data removed]",
      "text/plain": [
       "<Figure size 432x288 with 1 Axes>"
      ]
     },
     "metadata": {
      "needs_background": "light"
     },
     "output_type": "display_data"
    }
   ],
   "source": [
    "val = []\n",
    "for i in range(0,14):  \n",
    "    val.append(output[i].stress)\n",
    "    \n",
    "import matplotlib.pyplot as plt\n",
    "import numpy as np\n",
    "import pandas as pd\n",
    "import seaborn as sns\n",
    " \n",
    "# data\n",
    "df=pd.DataFrame({'x': range(1,15), 'y': val })\n",
    " \n",
    "# plot\n",
    "plt.plot( 'x', 'y', data=df, linestyle='-', marker='o')\n",
    "plt.show()\n",
    "\n",
    "def test():\n",
    "    \n",
    "    pass\n"
   ]
  },
  {
   "cell_type": "code",
   "execution_count": 71,
   "metadata": {},
   "outputs": [
    {
     "name": "stdout",
     "output_type": "stream",
     "text": [
      "78.5237158739\n",
      "79.2784597931\n",
      "77.3008417192\n",
      "82.4872030963\n",
      "42.302973482\n",
      "42.0451248482\n",
      "40.3402766153\n",
      "40.548247862\n",
      "26.7339070389\n",
      "26.7394743407\n",
      "26.0174760662\n",
      "28.2639111554\n",
      "18.6850665394\n",
      "19.0841525689\n",
      "18.1727936688\n",
      "18.5699894924\n",
      "14.2066201644\n",
      "13.9815737761\n",
      "14.3241305904\n",
      "13.9097419346\n",
      "11.0714995106\n",
      "10.8148759028\n",
      "10.7302878397\n",
      "11.3485628382\n",
      "8.9779451307\n",
      "8.56500845281\n",
      "8.79172555992\n",
      "8.65955135808\n",
      "7.24071649623\n",
      "7.23523451084\n",
      "7.19467841665\n",
      "7.949994226\n",
      "6.16178562989\n",
      "6.53421039345\n",
      "6.77502054704\n",
      "6.37508238008\n",
      "5.63803480758\n",
      "5.79014128899\n",
      "5.06466118455\n",
      "5.34802394817\n",
      "4.88722917939\n",
      "4.90468127308\n",
      "5.08301652506\n",
      "4.65575744383\n",
      "4.42563377649\n",
      "4.86586864834\n",
      "4.54261385989\n",
      "4.29180192514\n",
      "3.98653723781\n",
      "4.07181457298\n",
      "3.87411746507\n",
      "3.88596800503\n",
      "3.29427928511\n",
      "3.71037410443\n",
      "3.67326346378\n",
      "3.76534537269\n"
     ]
    }
   ],
   "source": [
    "import pandas as pd\n",
    "a = pd.read_csv('SimilarityMatrixv2.csv')\n",
    "dsim = (7 - a.drop(a.columns[0], axis = 1)).values\n",
    "\n",
    "#nmds = MDS(n_dimensions=40)\n",
    "#ans = mds_2.fit(dsim)\n",
    "\n",
    "output = []\n",
    "for i in range(1,15):\n",
    "    nmds = MDS(n_dimensions=i)\n",
    "    ans = nmds.fit(dsim)\n",
    "    output.append(ans)"
   ]
  },
  {
   "cell_type": "code",
   "execution_count": 19,
   "metadata": {},
   "outputs": [],
   "source": [
    "#ans.stress"
   ]
  },
  {
   "cell_type": "code",
   "execution_count": 72,
   "metadata": {},
   "outputs": [
    {
     "name": "stderr",
     "output_type": "stream",
     "text": [
      "/opt/conda/lib/python3.6/site-packages/matplotlib/pyplot.py:3363: RuntimeWarning: Second argument 'y' is ambiguous: could be a color spec but is in data; using as data.  Either rename the entry in data or use three arguments to plot.\n",
      "  ret = ax.plot(*args, **kwargs)\n"
     ]
    },
    {
     "data": {
      "image/png": "[encoded data removed]",
      "text/plain": [
       "<Figure size 432x288 with 1 Axes>"
      ]
     },
     "metadata": {
      "needs_background": "light"
     },
     "output_type": "display_data"
    }
   ],
   "source": [
    "val = []\n",
    "for i in range(0,14):  \n",
    "    val.append(output[i].stress)\n",
    "    \n",
    "import matplotlib.pyplot as plt\n",
    "import numpy as np\n",
    "import pandas as pd\n",
    "import seaborn as sns\n",
    " \n",
    "# data\n",
    "df=pd.DataFrame({'x': range(1,15), 'y': val })\n",
    " \n",
    "# plot\n",
    "plt.plot( 'x', 'y', data=df, linestyle='-', marker='o')\n",
    "plt.show()"
   ]
  },
  {
   "cell_type": "code",
   "execution_count": 73,
   "metadata": {},
   "outputs": [
    {
     "data": {
      "text/plain": [
       "array([[ 0.        ,  4.        ,  4.33333333, ...,  4.33333333,\n",
       "         4.33333333,  5.        ],\n",
       "       [ 4.        ,  0.        ,  3.75      , ...,  3.75      ,\n",
       "         1.        ,  4.5       ],\n",
       "       [ 4.33333333,  3.75      ,  0.        , ...,  2.        ,\n",
       "         0.        ,  6.        ],\n",
       "       ..., \n",
       "       [ 4.33333333,  3.75      ,  2.        , ...,  0.        ,\n",
       "         1.        ,  4.66666667],\n",
       "       [ 4.33333333,  1.        ,  0.        , ...,  1.        ,\n",
       "         0.        ,  4.        ],\n",
       "       [ 5.        ,  4.5       ,  6.        , ...,  4.66666667,\n",
       "         4.        ,  0.        ]])"
      ]
     },
     "execution_count": 73,
     "metadata": {},
     "output_type": "execute_result"
    }
   ],
   "source": [
    "dsim"
   ]
  },
  {
   "cell_type": "code",
   "execution_count": 74,
   "metadata": {},
   "outputs": [
    {
     "name": "stdout",
     "output_type": "stream",
     "text": [
      "42.0082560198\n",
      "42.4882221459\n",
      "41.7259074083\n",
      "42.8233451522\n"
     ]
    },
    {
     "data": {
      "text/plain": [
       "'from matplotlib import pyplot as plt\\nfrom sklearn.decomposition import PCA\\nclf = PCA(n_components=2)\\nnpos = clf.fit_transform(ans2.embedding)\\n'"
      ]
     },
     "execution_count": 74,
     "metadata": {},
     "output_type": "execute_result"
    }
   ],
   "source": [
    "nmds2 = MDS(n_dimensions=2)\n",
    "ans2 = nmds2.fit(dsim)\n",
    "\n",
    "'''\n",
    "from sklearn.decomposition import PCA\n",
    "clf = PCA(n_components=2)\n",
    "npos = clf.fit_transform(ans2.embedding)\n",
    "'''\n"
   ]
  },
  {
   "cell_type": "code",
   "execution_count": 78,
   "metadata": {},
   "outputs": [
    {
     "data": {
      "text/plain": [
       "array([[ 0.31855113, -0.28290583],\n",
       "       [-0.4422423 ,  0.22351462],\n",
       "       [-0.2962667 , -0.35794507],\n",
       "       [ 0.35709287, -0.20986451],\n",
       "       [-0.09457334, -0.33337227],\n",
       "       [ 0.16760777, -0.18258983],\n",
       "       [ 0.04370836,  0.00939073],\n",
       "       [-0.17284697,  0.40373039],\n",
       "       [ 0.09636717, -0.10246264],\n",
       "       [-0.50311454,  0.13543435],\n",
       "       [-0.18856297,  0.33468434],\n",
       "       [ 0.23208835, -0.05370863],\n",
       "       [-0.34364369,  0.31999141],\n",
       "       [-0.20051255,  0.43556844],\n",
       "       [-0.39692461,  0.35985433],\n",
       "       [-0.43987459,  0.16638172],\n",
       "       [ 0.46675789,  0.37747402],\n",
       "       [ 0.09327363, -0.46614479],\n",
       "       [-0.09576913,  0.53987312],\n",
       "       [-0.43919553, -0.02754971],\n",
       "       [ 0.28059283, -0.00809379],\n",
       "       [-0.34712018,  0.09874525],\n",
       "       [ 0.30702628,  0.30668251],\n",
       "       [ 0.01142276,  0.13413732],\n",
       "       [ 0.06051942,  0.29873569],\n",
       "       [ 0.20726983,  0.37915334],\n",
       "       [-0.22764273,  0.23939746],\n",
       "       [-0.37033762, -0.10898261],\n",
       "       [-0.06456685,  0.42863411],\n",
       "       [-0.2276607 , -0.06758597],\n",
       "       [ 0.65793039, -0.31258839],\n",
       "       [ 0.55664251,  0.22486575],\n",
       "       [-0.00591449, -0.13722831],\n",
       "       [ 0.60522574, -0.43244828],\n",
       "       [-0.03468873, -0.43939111],\n",
       "       [ 0.64819094, -0.0383313 ],\n",
       "       [-0.09653144,  0.34725615],\n",
       "       [ 0.43682143, -0.24507288],\n",
       "       [-0.57579556, -0.62689448],\n",
       "       [ 0.21264058, -0.7149639 ],\n",
       "       [-0.18906987, -0.64516325],\n",
       "       [ 0.35857227, -0.33961984],\n",
       "       [-0.49069226, -0.32188529],\n",
       "       [-0.24244254, -0.331771  ],\n",
       "       [ 0.71270284,  0.37766689]])"
      ]
     },
     "execution_count": 78,
     "metadata": {},
     "output_type": "execute_result"
    }
   ],
   "source": [
    "npos = ans2.embedding\n",
    "npos"
   ]
  },
  {
   "cell_type": "code",
   "execution_count": 77,
   "metadata": {},
   "outputs": [
    {
     "data": {
      "image/png": "[encoded data removed]",
      "text/plain": [
       "<Figure size 432x288 with 1 Axes>"
      ]
     },
     "metadata": {
      "needs_background": "light"
     },
     "output_type": "display_data"
    }
   ],
   "source": [
    "from matplotlib import pyplot as plt\n",
    "plt.scatter(npos[:, 0], npos[:, 1], color='turquoise',  label='NMDS')\n",
    "plt.show()"
   ]
  },
  {
   "cell_type": "code",
   "execution_count": 100,
   "metadata": {},
   "outputs": [
    {
     "data": {
      "text/plain": [
       "45"
      ]
     },
     "execution_count": 100,
     "metadata": {},
     "output_type": "execute_result"
    }
   ],
   "source": [
    "## labels for pairs\n",
    "labels_pairs = ['ac', 'aa', 'ar', 'at', 'bh', 'buh', 'de', 'dro', 'dra', \n",
    "                'dc', 'et', 'fb', 'frc', 'fuc', 'gat', 'gd', 'ge' ,'gs',\n",
    "                'grt', 'hd', 'hs', 'im', 'ms' , 'mc', 'mt', 'pa', 'pb',\n",
    "                'ps', 'rs', 'rp', 'rv', 'rd', 'sk', 'se', 'ss', 'st', 'tl',\n",
    "                'tt', 'te', 'tm', 'vr', 'wr', 'wd', 'wm', 'wl']\n",
    "len(set(labels_pairs))"
   ]
  },
  {
   "cell_type": "code",
   "execution_count": 101,
   "metadata": {},
   "outputs": [
    {
     "data": {
      "image/png": "[encoded data removed]",
      "text/plain": [
       "<Figure size 720x504 with 1 Axes>"
      ]
     },
     "metadata": {
      "needs_background": "light"
     },
     "output_type": "display_data"
    }
   ],
   "source": [
    "fig = plt.figure(figsize=(10, 7))\n",
    "fig.suptitle('2 dimensional representation', fontsize = 20)\n",
    "plt.xlabel('Dimension 1',fontsize = 15)\n",
    "plt.ylabel('Dimension 2',fontsize = 15)\n",
    "plt.subplots_adjust(bottom=0.1)  \n",
    "plt.scatter(npos[:, 0], npos[:, 1], label='True Position')\n",
    "\n",
    "for label, x, y in zip(labels_pairs, npos[:, 0], npos[:, 1]):  \n",
    "    plt.annotate(label, xy=(x, y), xytext=(-3, 3), textcoords='offset points', ha='right', va='bottom')\n",
    "plt.show()  "
   ]
  },
  {
   "cell_type": "code",
   "execution_count": null,
   "metadata": {},
   "outputs": [],
   "source": []
  }
 ],
 "metadata": {
  "kernelspec": {
   "display_name": "Python 3",
   "language": "python",
   "name": "python3"
  },
  "language_info": {
   "codemirror_mode": {
    "name": "ipython",
    "version": 3
   },
   "file_extension": ".py",
   "mimetype": "text/x-python",
   "name": "python",
   "nbconvert_exporter": "python",
   "pygments_lexer": "ipython3",
   "version": "3.6.8"
  }
 },
 "nbformat": 4,
 "nbformat_minor": 2
}
