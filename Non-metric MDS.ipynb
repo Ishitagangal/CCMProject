{
 "cells": [
  {
   "cell_type": "code",
   "execution_count": 63,
   "metadata": {},
   "outputs": [],
   "source": [
    "import numpy as np\n",
    "from sklearn.base import BaseEstimator\n",
    "from sklearn.metrics import euclidean_distances\n",
    "from sklearn.utils import check_random_state, check_array, check_symmetric\n",
    "#from sklearn.externals.joblib import Parallel, delayed, effective_n_jobs\n",
    "from sklearn.isotonic import IsotonicRegression\n",
    "\n",
    "def NMDSfunc(dissimilarities, n_dimensions=2, max_iter=300, verbose=False, eps=1e-3, random_state=None):\n",
    "    '''\n",
    "    dissimilarities: matrix\n",
    "    eps: used for convergence\n",
    "    '''\n",
    "    dissimilarities = check_symmetric(dissimilarities, raise_exception=True)\n",
    "    n_samples = dissimilarities.shape[0]\n",
    "    random_state = check_random_state(random_state)\n",
    "\n",
    "    sim_flat = ((1 - np.tri(n_samples)) * dissimilarities).ravel()\n",
    "    sim_flat_w = sim_flat[sim_flat != 0]\n",
    "    #Random initial configuration\n",
    "    X = random_state.rand(n_samples * n_dimensions)\n",
    "    X = X.reshape((n_samples, n_dimensions))\n",
    "\n",
    "    old_stress = None\n",
    "    ir = IsotonicRegression()\n",
    "    for it in range(max_iter):\n",
    "        # Compute distance and monotonic regression\n",
    "        dis = euclidean_distances(X)\n",
    "        dis_flat = dis.ravel()\n",
    "        dis_flat_w = dis_flat[sim_flat != 0]\n",
    "\n",
    "        # Find disparities using monotonic regression\n",
    "        disparities_flat = ir.fit_transform(sim_flat_w, dis_flat_w)\n",
    "        disparities = dis_flat.copy()\n",
    "        disparities[sim_flat != 0] = disparities_flat\n",
    "        disparities = disparities.reshape((n_samples, n_samples))\n",
    "        disparities *= np.sqrt((n_samples * (n_samples - 1) / 2) / (disparities ** 2).sum())\n",
    "        # Compute stress\n",
    "        stress = ((dis.ravel() - disparities.ravel()) ** 2).sum() / 2\n",
    "\n",
    "        # Update X using the Guttman transform\n",
    "        dis[dis == 0] = 1e-5\n",
    "        ratio = disparities / dis\n",
    "        B = - ratio\n",
    "        B[np.arange(len(B)), np.arange(len(B))] += ratio.sum(axis=1)\n",
    "        X = 1. / n_samples * np.dot(B, X)\n",
    "\n",
    "        dis = np.sqrt((X ** 2).sum(axis=1)).sum()\n",
    "        if verbose:\n",
    "            print('iteration: %d, stress %s' % (it, stress))\n",
    "        if old_stress is not None:\n",
    "            if(old_stress - stress / dis) < eps:\n",
    "                if verbose:\n",
    "                    print('convergence: breaking at iteration %d with stress %s' % (it,stress))\n",
    "                break\n",
    "        old_stress = stress / dis\n",
    "\n",
    "    return X, stress, it + 1\n",
    "\n",
    "\n",
    "def NMDS(dissimilarities, n_dimensions=2, n_init=4,\n",
    "            max_iter=300, verbose=False, eps=1e-3, random_state=None):\n",
    "    \"\"\"\n",
    "    Multiple(n_init) iterations to find the best stress at a particular dimension\n",
    "    \"\"\"\n",
    "    dissimilarities = check_array(dissimilarities)\n",
    "    random_state = check_random_state(random_state)\n",
    "\n",
    "    best_pos, best_stress = None, None\n",
    "    for it in range(n_init):\n",
    "        pos, stress, n_iter_ = NMDSfunc(dissimilarities, n_dimensions=n_dimensions, max_iter=max_iter, verbose=verbose,\n",
    "                eps=eps, random_state=random_state)\n",
    "        #print(pos)\n",
    "        print(stress)\n",
    "        if best_stress is None or stress < best_stress:\n",
    "            best_stress = stress\n",
    "            best_pos = pos.copy()\n",
    "            best_iter = n_iter_\n",
    "            \n",
    "    return best_pos, best_stress, best_iter\n",
    "\n",
    "\n",
    "class MDS():\n",
    "    def __init__(self, n_dimensions=2,  n_init=4,\n",
    "                 max_iter=300, verbose=False, eps=1e-3,\n",
    "                 random_state=None):\n",
    "        self.n_dimensions = n_dimensions\n",
    "        self.n_init = n_init\n",
    "        self.max_iter = max_iter\n",
    "        self.eps = eps\n",
    "        self.verbose = verbose\n",
    "        self.random_state = random_state\n",
    "\n",
    "    def fit(self, X, y=None):\n",
    "      \n",
    "        #self.fit_transform(X)\n",
    "        X = check_array(X)\n",
    "        self.dissimilarity_matrix_ = X\n",
    "        \n",
    "        self.embedding, self.stress, self.n_iter = NMDS(self.dissimilarity_matrix_,\n",
    "            n_dimensions=self.n_dimensions, n_init=self.n_init,\n",
    "            max_iter=self.max_iter, verbose=self.verbose,\n",
    "            eps=self.eps, random_state=self.random_state)\n",
    "        \n",
    "        return self"
   ]
  },
  {
   "cell_type": "code",
   "execution_count": 64,
   "metadata": {},
   "outputs": [
    {
     "name": "stdout",
     "output_type": "stream",
     "text": [
      "0.00455517706873\n",
      "0.00568620527718\n",
      "0.00360615225171\n",
      "0.00216097996829\n"
     ]
    }
   ],
   "source": [
    "sim = np.array([[0, 5, 3, 4],\n",
    "                [5, 0, 2, 2],\n",
    "                [3, 2, 0, 1],\n",
    "                [4, 2, 1, 0]])\n",
    "mds_clf = MDS()\n",
    "a = mds_clf.fit(sim)"
   ]
  },
  {
   "cell_type": "code",
   "execution_count": 65,
   "metadata": {},
   "outputs": [
    {
     "data": {
      "text/plain": [
       "0.0021609799682891944"
      ]
     },
     "execution_count": 65,
     "metadata": {},
     "output_type": "execute_result"
    }
   ],
   "source": [
    "a.stress"
   ]
  },
  {
   "cell_type": "code",
   "execution_count": 66,
   "metadata": {},
   "outputs": [
    {
     "data": {
      "text/plain": [
       "array([[-0.51171021, -0.12542663],\n",
       "       [ 0.50459287,  0.09042339],\n",
       "       [ 0.04074435, -0.29824396],\n",
       "       [-0.04095825,  0.3481076 ]])"
      ]
     },
     "execution_count": 66,
     "metadata": {},
     "output_type": "execute_result"
    }
   ],
   "source": [
    "a.embedding"
   ]
  },
  {
   "cell_type": "code",
   "execution_count": 67,
   "metadata": {},
   "outputs": [
    {
     "name": "stdout",
     "output_type": "stream",
     "text": [
      "0.763746574026\n",
      "0.94772071077\n",
      "0.52778551819\n",
      "0.612545026295\n"
     ]
    }
   ],
   "source": [
    "sim2 = np.array([[0, 1, 4, 5, 3, 4, 2, 8, 8, 5, 7, 1],\n",
    "                [1, 0, 3, 8, 2, 6, 2, 7, 8, 8, 7, 2],\n",
    "                [4, 3, 0, 7, 2, 3, 3, 7, 8, 6, 4, 3],\n",
    "                [5, 8, 7, 0, 8, 9, 3, 8, 2, 2, 9, 5],\n",
    "                [3, 2, 2, 8, 0, 6, 4, 8, 9, 6, 4, 2],\n",
    "                [4, 6, 3, 9, 6, 0, 1, 3, 9, 8, 5, 3],\n",
    "                [2, 2, 3, 3, 4, 1, 0, 4, 3, 6, 7, 1],\n",
    "                [8, 7, 7, 8, 8, 3, 4, 0, 9, 6, 9, 5],\n",
    "                [8, 8, 8, 2, 9, 9, 3, 9, 0, 4, 9, 9],\n",
    "                [5, 8, 6, 2, 6, 8, 6, 6, 4, 0, 4, 3],\n",
    "                [7, 7, 4, 9, 4, 5, 7, 9, 9, 4, 0, 6],\n",
    "                [1, 2, 3, 5, 2, 3, 1, 5, 9, 3, 6, 0]])\n",
    "mds_2 = MDS(n_dimensions=4)\n",
    "b = mds_2.fit(sim2)\n"
   ]
  },
  {
   "cell_type": "code",
   "execution_count": 68,
   "metadata": {},
   "outputs": [
    {
     "data": {
      "text/plain": [
       "0.52778551818987518"
      ]
     },
     "execution_count": 68,
     "metadata": {},
     "output_type": "execute_result"
    }
   ],
   "source": [
    "b.stress"
   ]
  },
  {
   "cell_type": "code",
   "execution_count": 69,
   "metadata": {},
   "outputs": [
    {
     "name": "stdout",
     "output_type": "stream",
     "text": [
      "5.00819593764\n",
      "5.52146148815\n",
      "4.66860175973\n",
      "4.05828817639\n",
      "2.37781219487\n",
      "2.12287849908\n",
      "2.32413494542\n",
      "3.14245920246\n",
      "0.827824971442\n",
      "0.887896083388\n",
      "1.44874899525\n",
      "1.37563201384\n",
      "0.648641795892\n",
      "0.868577490965\n",
      "0.33417083569\n",
      "0.937689612324\n",
      "0.434484652225\n",
      "0.310639960646\n",
      "0.607136444039\n",
      "0.594548555239\n",
      "0.384825930397\n",
      "0.632477534911\n",
      "0.409056291966\n",
      "0.281648969797\n",
      "0.406314332752\n",
      "0.27979877505\n",
      "0.134718314875\n",
      "0.315800252407\n",
      "0.134931210885\n",
      "0.231837198166\n",
      "0.244590567412\n",
      "0.272076108706\n",
      "0.19600683592\n",
      "0.189796325615\n",
      "0.187995777286\n",
      "0.117379841531\n",
      "0.199954489019\n",
      "0.147362356211\n",
      "0.134880828786\n",
      "0.15248717618\n",
      "0.134828689347\n",
      "0.128596621855\n",
      "0.139388384365\n",
      "0.13577860186\n",
      "0.129695375957\n",
      "0.11246954555\n",
      "0.149057286608\n",
      "0.104720124687\n",
      "0.170505341848\n",
      "0.146778627885\n",
      "0.117009980621\n",
      "0.158717010155\n",
      "0.114406309315\n",
      "0.1113715348\n",
      "0.0885778377139\n",
      "0.0923920837029\n"
     ]
    }
   ],
   "source": [
    "output = []\n",
    "for i in range(1,15):\n",
    "    model = MDS(n_dimensions=i)\n",
    "    b = model.fit(sim2)\n",
    "    output.append(b)\n"
   ]
  },
  {
   "cell_type": "code",
   "execution_count": 70,
   "metadata": {},
   "outputs": [
    {
     "name": "stderr",
     "output_type": "stream",
     "text": [
      "/opt/conda/lib/python3.6/site-packages/matplotlib/pyplot.py:3363: RuntimeWarning: Second argument 'y' is ambiguous: could be a color spec but is in data; using as data.  Either rename the entry in data or use three arguments to plot.\n",
      "  ret = ax.plot(*args, **kwargs)\n"
     ]
    },
    {
     "data": {
      "image/png": "[encoded data removed]",
      "text/plain": [
       "<Figure size 432x288 with 1 Axes>"
      ]
     },
     "metadata": {
      "needs_background": "light"
     },
     "output_type": "display_data"
    }
   ],
   "source": [
    "val = []\n",
    "for i in range(0,14):  \n",
    "    val.append(output[i].stress)\n",
    "    \n",
    "import matplotlib.pyplot as plt\n",
    "import numpy as np\n",
    "import pandas as pd\n",
    "import seaborn as sns\n",
    " \n",
    "# data\n",
    "df=pd.DataFrame({'x': range(1,15), 'y': val })\n",
    " \n",
    "# plot\n",
    "plt.plot( 'x', 'y', data=df, linestyle='-', marker='o')\n",
    "plt.show()\n",
    "\n",
    "def test():\n",
    "    \n",
    "    pass\n"
   ]
  },
  {
   "cell_type": "code",
   "execution_count": 124,
   "metadata": {},
   "outputs": [
    {
     "name": "stdout",
     "output_type": "stream",
     "text": [
      "80.1444904789\n",
      "79.9718736113\n",
      "77.0793553028\n",
      "77.2062633157\n",
      "42.1739977165\n",
      "40.8131219242\n",
      "41.0667280816\n",
      "42.1913332682\n",
      "25.6407344158\n",
      "26.1341016462\n",
      "28.3532176822\n",
      "26.976100267\n",
      "18.4951247606\n",
      "19.6337942293\n",
      "18.0559639713\n",
      "17.8953081663\n",
      "13.5997853127\n",
      "13.4395389826\n",
      "13.2735728165\n",
      "13.729886039\n",
      "11.0009731965\n",
      "10.3236553709\n",
      "10.3529967715\n",
      "10.2715616157\n",
      "9.24835878915\n",
      "9.13742759243\n",
      "8.68759608515\n",
      "8.8638632957\n",
      "7.21994624072\n",
      "7.24478215787\n",
      "6.99187242257\n",
      "7.37526213836\n",
      "6.62348013756\n",
      "6.36330693193\n",
      "6.27230024225\n",
      "7.02206484261\n",
      "5.6208688102\n",
      "5.84530146856\n",
      "5.52048493546\n",
      "5.65523281429\n",
      "4.41705401527\n",
      "5.23426051245\n",
      "4.822818609\n",
      "4.96595644081\n",
      "4.67450345807\n",
      "4.45846939082\n",
      "4.62350580505\n",
      "4.27699038581\n",
      "4.10790056423\n",
      "4.05996648359\n",
      "4.00528521695\n",
      "4.37530185921\n",
      "3.62281210653\n",
      "3.79091160857\n",
      "3.79521328853\n",
      "3.37786146041\n"
     ]
    }
   ],
   "source": [
    "import pandas as pd\n",
    "a = pd.read_csv('SimilarityMatrixv2.csv')\n",
    "dsim = (7- a.drop(a.columns[0], axis = 1)).values\n",
    "\n",
    "#nmds = MDS(n_dimensions=40)\n",
    "#ans = mds_2.fit(dsim)\n",
    "\n",
    "output = []\n",
    "for i in range(1,15):\n",
    "    nmds = MDS(n_dimensions=i)\n",
    "    ans = nmds.fit(dsim)\n",
    "    output.append(ans)"
   ]
  },
  {
   "cell_type": "code",
   "execution_count": 19,
   "metadata": {},
   "outputs": [],
   "source": [
    "#ans.stress"
   ]
  },
  {
   "cell_type": "code",
   "execution_count": 125,
   "metadata": {},
   "outputs": [
    {
     "name": "stderr",
     "output_type": "stream",
     "text": [
      "/opt/conda/lib/python3.6/site-packages/matplotlib/pyplot.py:3363: RuntimeWarning: Second argument 'y' is ambiguous: could be a color spec but is in data; using as data.  Either rename the entry in data or use three arguments to plot.\n",
      "  ret = ax.plot(*args, **kwargs)\n"
     ]
    },
    {
     "data": {
      "image/png": "[encoded data removed]",
      "text/plain": [
       "<Figure size 432x288 with 1 Axes>"
      ]
     },
     "metadata": {
      "needs_background": "light"
     },
     "output_type": "display_data"
    }
   ],
   "source": [
    "val = []\n",
    "for i in range(0,14):  \n",
    "    val.append(output[i].stress)\n",
    "    \n",
    "import matplotlib.pyplot as plt\n",
    "import numpy as np\n",
    "import pandas as pd\n",
    "import seaborn as sns\n",
    " \n",
    "# data\n",
    "df=pd.DataFrame({'x': range(1,15), 'y': val })\n",
    " \n",
    "# plot\n",
    "plt.plot( 'x', 'y', data=df, linestyle='-', marker='o')\n",
    "plt.show()"
   ]
  },
  {
   "cell_type": "code",
   "execution_count": 112,
   "metadata": {},
   "outputs": [
    {
     "data": {
      "text/plain": [
       "array([[ 0.        ,  4.        ,  4.33333333, ...,  4.33333333,\n",
       "         4.33333333,  5.        ],\n",
       "       [ 4.        ,  0.        ,  3.75      , ...,  3.75      ,\n",
       "         1.        ,  4.5       ],\n",
       "       [ 4.33333333,  3.75      ,  0.        , ...,  2.        ,\n",
       "         0.        ,  6.        ],\n",
       "       ..., \n",
       "       [ 4.33333333,  3.75      ,  2.        , ...,  0.        ,\n",
       "         1.        ,  4.66666667],\n",
       "       [ 4.33333333,  1.        ,  0.        , ...,  1.        ,\n",
       "         0.        ,  4.        ],\n",
       "       [ 5.        ,  4.5       ,  6.        , ...,  4.66666667,\n",
       "         4.        ,  0.        ]])"
      ]
     },
     "execution_count": 112,
     "metadata": {},
     "output_type": "execute_result"
    }
   ],
   "source": [
    "dsim"
   ]
  },
  {
   "cell_type": "code",
   "execution_count": 126,
   "metadata": {},
   "outputs": [
    {
     "name": "stdout",
     "output_type": "stream",
     "text": [
      "40.4804204402\n",
      "40.4530197879\n",
      "42.8767740258\n",
      "41.5860589138\n"
     ]
    },
    {
     "data": {
      "text/plain": [
       "'\\nfrom sklearn.decomposition import PCA\\nclf = PCA(n_components=2)\\nnpos = clf.fit_transform(ans2.embedding)\\n'"
      ]
     },
     "execution_count": 126,
     "metadata": {},
     "output_type": "execute_result"
    }
   ],
   "source": [
    "nmds2 = MDS(n_dimensions=2)\n",
    "ans2 = nmds2.fit(dsim)\n",
    "\n",
    "'''\n",
    "from sklearn.decomposition import PCA\n",
    "clf = PCA(n_components=2)\n",
    "npos = clf.fit_transform(ans2.embedding)\n",
    "'''\n"
   ]
  },
  {
   "cell_type": "code",
   "execution_count": 127,
   "metadata": {},
   "outputs": [
    {
     "data": {
      "text/plain": [
       "array([[ 0.06884978,  0.42525236],\n",
       "       [ 0.26590355, -0.29954647],\n",
       "       [ 0.4162211 ,  0.11205533],\n",
       "       [ 0.03992199,  0.24085053],\n",
       "       [-0.42671025, -0.04181574],\n",
       "       [ 0.31638194,  0.15674249],\n",
       "       [ 0.37640696,  0.22028619],\n",
       "       [ 0.42772992, -0.05164282],\n",
       "       [ 0.11231329, -0.00128544],\n",
       "       [-0.09614278,  0.24422846],\n",
       "       [-0.37641701,  0.36896132],\n",
       "       [-0.24548325, -0.45200636],\n",
       "       [ 0.39055523, -0.30773377],\n",
       "       [ 0.19110625, -0.50154917],\n",
       "       [ 0.19623228,  0.04152501],\n",
       "       [-0.17829801,  0.35269058],\n",
       "       [-0.16761255,  0.49031704],\n",
       "       [ 0.19395929, -0.18531212],\n",
       "       [ 0.20257686,  0.39862017],\n",
       "       [ 0.4281761 , -0.21294226],\n",
       "       [-0.31195583, -0.53736467],\n",
       "       [ 0.05948166, -0.52575122],\n",
       "       [ 0.27202681,  0.33734563],\n",
       "       [-0.15069095, -0.04939735],\n",
       "       [-0.4048918 ,  0.07349748],\n",
       "       [-0.33847948, -0.38189358],\n",
       "       [-0.13895394,  0.55626394],\n",
       "       [-0.40417113,  0.19726431],\n",
       "       [-0.45771752,  0.34970902],\n",
       "       [-0.00508739, -0.18153745],\n",
       "       [ 0.26619312, -0.19915534],\n",
       "       [ 0.18291939, -0.39706703],\n",
       "       [-0.30268761,  0.35885769],\n",
       "       [-0.50997477, -0.12218793],\n",
       "       [ 0.18603195,  0.39450667],\n",
       "       [-0.5449227 , -0.48250267],\n",
       "       [ 0.36036995, -0.66419455],\n",
       "       [-0.17405373,  0.08045016],\n",
       "       [-0.48782303, -0.40452639],\n",
       "       [ 0.59937484,  0.09552978],\n",
       "       [-0.48627225,  0.19626055],\n",
       "       [ 0.81738962, -0.04452301],\n",
       "       [-0.26760486, -0.16985522],\n",
       "       [ 0.11199771, -0.30375653],\n",
       "       [ 0.12595822,  0.73298487]])"
      ]
     },
     "execution_count": 127,
     "metadata": {},
     "output_type": "execute_result"
    }
   ],
   "source": [
    "npos = ans2.embedding\n",
    "npos"
   ]
  },
  {
   "cell_type": "code",
   "execution_count": 114,
   "metadata": {},
   "outputs": [
    {
     "data": {
      "image/png": "[encoded data removed]",
      "text/plain": [
       "<Figure size 432x288 with 1 Axes>"
      ]
     },
     "metadata": {
      "needs_background": "light"
     },
     "output_type": "display_data"
    }
   ],
   "source": [
    "from matplotlib import pyplot as plt\n",
    "plt.scatter(npos[:, 0], npos[:, 1], color='turquoise',  label='NMDS')\n",
    "plt.show()"
   ]
  },
  {
   "cell_type": "code",
   "execution_count": 128,
   "metadata": {},
   "outputs": [
    {
     "data": {
      "text/plain": [
       "45"
      ]
     },
     "execution_count": 128,
     "metadata": {},
     "output_type": "execute_result"
    }
   ],
   "source": [
    "## labels for pairs\n",
    "labels_pairs = ['ac', 'aa', 'ar', 'at', 'bh', 'buh', 'de', 'dro', 'dra', \n",
    "                'dc', 'et', 'fb', 'frc', 'fuc', 'gat', 'gd', 'ge' ,'gs',\n",
    "                'grt', 'hd', 'hs', 'im', 'ms' , 'mc', 'mt', 'pa', 'pb',\n",
    "                'ps', 'rs', 'rp', 'rv', 'rd', 'sk', 'se', 'ss', 'st', 'tl',\n",
    "                'tt', 'te', 'tm', 'vr', 'wr', 'wd', 'wm', 'wl']\n",
    "len(set(labels_pairs))"
   ]
  },
  {
   "cell_type": "code",
   "execution_count": 129,
   "metadata": {},
   "outputs": [
    {
     "data": {
      "image/png": "[encoded data removed]",
      "text/plain": [
       "<Figure size 720x504 with 1 Axes>"
      ]
     },
     "metadata": {
      "needs_background": "light"
     },
     "output_type": "display_data"
    }
   ],
   "source": [
    "fig = plt.figure(figsize=(10, 7))\n",
    "fig.suptitle('2 dimensional representation', fontsize = 20)\n",
    "plt.xlabel('Dimension 1',fontsize = 15)\n",
    "plt.ylabel('Dimension 2',fontsize = 15)\n",
    "plt.subplots_adjust(bottom=0.1)  \n",
    "plt.scatter(npos[:, 0], npos[:, 1], label='True Position')\n",
    "\n",
    "for label, x, y in zip(labels_pairs, npos[:, 0], npos[:, 1]):  \n",
    "    plt.annotate(label, xy=(x, y), xytext=(-3, 3), textcoords='offset points', ha='right', va='bottom')\n",
    "plt.show()  "
   ]
  },
  {
   "cell_type": "code",
   "execution_count": 130,
   "metadata": {},
   "outputs": [
    {
     "name": "stdout",
     "output_type": "stream",
     "text": [
      "84.3745641951\n",
      "79.6108141137\n",
      "82.6565680953\n",
      "81.5845667487\n",
      "44.0742822979\n",
      "45.2387024032\n",
      "43.0081778374\n",
      "45.2023831329\n",
      "28.314975847\n",
      "27.6468476397\n",
      "27.2315633034\n",
      "27.9070172852\n",
      "19.2373090688\n",
      "19.4099859223\n",
      "19.5649991458\n",
      "19.5920262021\n",
      "15.5588150685\n",
      "14.502477371\n",
      "14.90848057\n",
      "14.8308494624\n",
      "10.8988431903\n",
      "11.3225791563\n",
      "10.8791596079\n",
      "11.4575452454\n",
      "9.13570828422\n",
      "9.16202366531\n",
      "9.37567633795\n",
      "9.80173522785\n",
      "7.40022812087\n",
      "8.04895948163\n",
      "7.41988354776\n",
      "8.30474944306\n",
      "6.48492399076\n",
      "7.1371876681\n",
      "6.87146123072\n",
      "6.83129553051\n",
      "5.79364261524\n",
      "5.83762590615\n",
      "6.26177120676\n",
      "6.07133689992\n",
      "5.58687060001\n",
      "5.06468475657\n",
      "5.35126560616\n",
      "5.45301070048\n",
      "4.68729400946\n",
      "4.57122443979\n",
      "4.50750971787\n",
      "4.38045383264\n",
      "4.19628583442\n",
      "4.43877083827\n",
      "4.37914208299\n",
      "4.14394679474\n",
      "3.75986549681\n",
      "3.72415198007\n",
      "3.79371400306\n",
      "4.08248431561\n"
     ]
    },
    {
     "name": "stderr",
     "output_type": "stream",
     "text": [
      "/opt/conda/lib/python3.6/site-packages/matplotlib/pyplot.py:3363: RuntimeWarning: Second argument 'y' is ambiguous: could be a color spec but is in data; using as data.  Either rename the entry in data or use three arguments to plot.\n",
      "  ret = ax.plot(*args, **kwargs)\n"
     ]
    },
    {
     "data": {
      "image/png": "[encoded data removed]",
      "text/plain": [
       "<Figure size 432x288 with 1 Axes>"
      ]
     },
     "metadata": {
      "needs_background": "light"
     },
     "output_type": "display_data"
    },
    {
     "name": "stdout",
     "output_type": "stream",
     "text": [
      "43.1392897814\n",
      "43.1319349896\n",
      "43.9531157094\n",
      "44.0854990534\n"
     ]
    },
    {
     "data": {
      "image/png": "[encoded data removed]",
      "text/plain": [
       "<Figure size 720x504 with 1 Axes>"
      ]
     },
     "metadata": {
      "needs_background": "light"
     },
     "output_type": "display_data"
    }
   ],
   "source": [
    "import pandas as pd\n",
    "a = pd.read_csv('SimilarityMatrixStandardized.csv')\n",
    "dsim = (7- a.drop(a.columns[0], axis = 1)).values\n",
    "\n",
    "#nmds = MDS(n_dimensions=40)\n",
    "#ans = mds_2.fit(dsim)\n",
    "\n",
    "output = []\n",
    "for i in range(1,15):\n",
    "    nmds = MDS(n_dimensions=i)\n",
    "    ans = nmds.fit(dsim)\n",
    "    output.append(ans)\n",
    "val = []\n",
    "for i in range(0,14):  \n",
    "    val.append(output[i].stress)\n",
    "    \n",
    "import matplotlib.pyplot as plt\n",
    "import numpy as np\n",
    "import pandas as pd\n",
    "import seaborn as sns\n",
    " \n",
    "# data\n",
    "df=pd.DataFrame({'x': range(1,15), 'y': val })\n",
    " \n",
    "# plot\n",
    "plt.plot( 'x', 'y', data=df, linestyle='-', marker='o')\n",
    "plt.show()\n",
    "\n",
    "nmds2 = MDS(n_dimensions=2)\n",
    "ans2 = nmds2.fit(dsim)\n",
    "\n",
    "fig = plt.figure(figsize=(10, 7))\n",
    "fig.suptitle('2 dimensional representation', fontsize = 20)\n",
    "plt.xlabel('Dimension 1',fontsize = 15)\n",
    "plt.ylabel('Dimension 2',fontsize = 15)\n",
    "plt.subplots_adjust(bottom=0.1)  \n",
    "plt.scatter(npos[:, 0], npos[:, 1], label='True Position')\n",
    "\n",
    "for label, x, y in zip(labels_pairs, npos[:, 0], npos[:, 1]):  \n",
    "    plt.annotate(label, xy=(x, y), xytext=(-3, 3), textcoords='offset points', ha='right', va='bottom')\n",
    "plt.show()  "
   ]
  },
  {
   "cell_type": "code",
   "execution_count": null,
   "metadata": {},
   "outputs": [],
   "source": []
  }
 ],
 "metadata": {
  "kernelspec": {
   "display_name": "Python 3",
   "language": "python",
   "name": "python3"
  },
  "language_info": {
   "codemirror_mode": {
    "name": "ipython",
    "version": 3
   },
   "file_extension": ".py",
   "mimetype": "text/x-python",
   "name": "python",
   "nbconvert_exporter": "python",
   "pygments_lexer": "ipython3",
   "version": "3.6.8"
  }
 },
 "nbformat": 4,
 "nbformat_minor": 2
}
