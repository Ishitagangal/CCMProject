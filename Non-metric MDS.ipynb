{
 "cells": [
  {
   "cell_type": "code",
   "execution_count": 44,
   "metadata": {},
   "outputs": [],
   "source": [
    "import numpy as np\n",
    "from sklearn.base import BaseEstimator\n",
    "from sklearn.metrics import euclidean_distances\n",
    "from sklearn.utils import check_random_state, check_array, check_symmetric\n",
    "#from sklearn.externals.joblib import Parallel, delayed, effective_n_jobs\n",
    "from sklearn.isotonic import IsotonicRegression\n",
    "\n",
    "def NMDSfunc(dissimilarities, n_dimensions=2, max_iter=300, verbose=False, eps=1e-3, random_state=None):\n",
    "    '''\n",
    "    dissimilarities: matrix\n",
    "    eps: used for convergence\n",
    "    '''\n",
    "    dissimilarities = check_symmetric(dissimilarities, raise_exception=True)\n",
    "    n_samples = dissimilarities.shape[0]\n",
    "    random_state = check_random_state(random_state)\n",
    "\n",
    "    sim_flat = ((1 - np.tri(n_samples)) * dissimilarities).ravel()\n",
    "    sim_flat_w = sim_flat[sim_flat != 0]\n",
    "    #Random initial configuration\n",
    "    X = random_state.rand(n_samples * n_dimensions)\n",
    "    X = X.reshape((n_samples, n_dimensions))\n",
    "\n",
    "    old_stress = None\n",
    "    ir = IsotonicRegression()\n",
    "    for it in range(max_iter):\n",
    "        # Compute distance and monotonic regression\n",
    "        dis = euclidean_distances(X)\n",
    "        dis_flat = dis.ravel()\n",
    "        dis_flat_w = dis_flat[sim_flat != 0]\n",
    "\n",
    "        # Finf disparities using monotonic regression\n",
    "        disparities_flat = ir.fit_transform(sim_flat_w, dis_flat_w)\n",
    "        disparities = dis_flat.copy()\n",
    "        disparities[sim_flat != 0] = disparities_flat\n",
    "        disparities = disparities.reshape((n_samples, n_samples))\n",
    "        disparities *= np.sqrt((n_samples * (n_samples - 1) / 2) / (disparities ** 2).sum())\n",
    "        # Compute stress\n",
    "        stress = ((dis.ravel() - disparities.ravel()) ** 2).sum() / 2\n",
    "\n",
    "        # Update X using the Guttman transform\n",
    "        dis[dis == 0] = 1e-5\n",
    "        ratio = disparities / dis\n",
    "        B = - ratio\n",
    "        B[np.arange(len(B)), np.arange(len(B))] += ratio.sum(axis=1)\n",
    "        X = 1. / n_samples * np.dot(B, X)\n",
    "\n",
    "        dis = np.sqrt((X ** 2).sum(axis=1)).sum()\n",
    "        if verbose:\n",
    "            print('iteration: %d, stress %s' % (it, stress))\n",
    "        if old_stress is not None:\n",
    "            if(old_stress - stress / dis) < eps:\n",
    "                if verbose:\n",
    "                    print('convergence: breaking at iteration %d with stress %s' % (it,stress))\n",
    "                break\n",
    "        old_stress = stress / dis\n",
    "\n",
    "    return X, stress, it + 1\n",
    "\n",
    "\n",
    "def NMDS(dissimilarities, n_dimensions=2, n_init=4,\n",
    "            max_iter=300, verbose=False, eps=1e-3, random_state=None):\n",
    "    \"\"\"\n",
    "    \"\"\"\n",
    "    dissimilarities = check_array(dissimilarities)\n",
    "    random_state = check_random_state(random_state)\n",
    "\n",
    "    best_pos, best_stress = None, None\n",
    "    for it in range(n_init):\n",
    "        pos, stress, n_iter_ = NMDSfunc(dissimilarities, n_dimensions=n_dimensions, max_iter=max_iter, verbose=verbose,\n",
    "                eps=eps, random_state=random_state)\n",
    "        print(pos)\n",
    "        print(stress)\n",
    "        if best_stress is None or stress < best_stress:\n",
    "            best_stress = stress\n",
    "            best_pos = pos.copy()\n",
    "            best_iter = n_iter_\n",
    "            \n",
    "    return best_pos, best_stress, best_iter\n",
    "\n",
    "\n",
    "class MDS():\n",
    "    def __init__(self, n_dimensions=2,  n_init=4,\n",
    "                 max_iter=300, verbose=False, eps=1e-3,\n",
    "                 random_state=None):\n",
    "        self.n_dimensions = n_dimensions\n",
    "        self.n_init = n_init\n",
    "        self.max_iter = max_iter\n",
    "        self.eps = eps\n",
    "        self.verbose = verbose\n",
    "        self.random_state = random_state\n",
    "\n",
    "    def fit(self, X, y=None):\n",
    "      \n",
    "        #self.fit_transform(X)\n",
    "        X = check_array(X)\n",
    "        self.dissimilarity_matrix_ = X\n",
    "        \n",
    "        self.embedding, self.stress, self.n_iter = NMDS(self.dissimilarity_matrix_,\n",
    "            n_dimensions=self.n_dimensions, n_init=self.n_init,\n",
    "            max_iter=self.max_iter, verbose=self.verbose,\n",
    "            eps=self.eps, random_state=self.random_state)\n",
    "        \n",
    "        return self"
   ]
  },
  {
   "cell_type": "code",
   "execution_count": 51,
   "metadata": {},
   "outputs": [
    {
     "name": "stdout",
     "output_type": "stream",
     "text": [
      "[[-0.09929721 -0.67767375]\n",
      " [ 0.23075424  0.18620914]\n",
      " [-0.17561697  0.09403646]\n",
      " [ 0.0409847   0.38055228]]\n",
      "0.0109563293289\n",
      "[[-0.5541385   0.28148819]\n",
      " [ 0.35789969 -0.43610676]\n",
      " [ 0.13669892 -0.00865695]\n",
      " [ 0.05886924  0.16040147]]\n",
      "0.0125482922792\n",
      "[[-0.24872573 -0.13719767]\n",
      " [ 0.08729399 -0.35247961]\n",
      " [-0.32774578  0.32313976]\n",
      " [ 0.49749066  0.19927699]]\n",
      "0.0937225465117\n",
      "[[ 0.37078889 -0.42915919]\n",
      " [-0.17362818  0.46701517]\n",
      " [ 0.15403576  0.08859029]\n",
      " [-0.36925985 -0.13103964]]\n",
      "0.00540617827044\n"
     ]
    }
   ],
   "source": [
    "sim = np.array([[0, 5, 3, 4],\n",
    "                [5, 0, 2, 2],\n",
    "                [3, 2, 0, 1],\n",
    "                [4, 2, 1, 0]])\n",
    "mds_clf = MDS()\n",
    "a = mds_clf.fit(sim)"
   ]
  },
  {
   "cell_type": "code",
   "execution_count": 52,
   "metadata": {},
   "outputs": [
    {
     "data": {
      "text/plain": [
       "0.0054061782704412338"
      ]
     },
     "execution_count": 52,
     "metadata": {},
     "output_type": "execute_result"
    }
   ],
   "source": [
    "a.stress"
   ]
  },
  {
   "cell_type": "code",
   "execution_count": 53,
   "metadata": {},
   "outputs": [
    {
     "data": {
      "text/plain": [
       "array([[ 0.37078889, -0.42915919],\n",
       "       [-0.17362818,  0.46701517],\n",
       "       [ 0.15403576,  0.08859029],\n",
       "       [-0.36925985, -0.13103964]])"
      ]
     },
     "execution_count": 53,
     "metadata": {},
     "output_type": "execute_result"
    }
   ],
   "source": [
    "a.embedding"
   ]
  },
  {
   "cell_type": "code",
   "execution_count": 67,
   "metadata": {},
   "outputs": [
    {
     "name": "stdout",
     "output_type": "stream",
     "text": [
      "[[ 0.43937658  0.02346676 -0.00093412 -0.03443916]\n",
      " [-0.30381555 -0.17107826 -0.2362117  -0.22470804]\n",
      " [ 0.02493398 -0.06641975  0.30092013  0.38582704]\n",
      " [-0.10964714  0.28252151  0.32498621 -0.13326192]\n",
      " [-0.01870468  0.06929762 -0.40825195  0.25756576]\n",
      " [ 0.29754972 -0.28591218 -0.14089684  0.0114623 ]\n",
      " [-0.1410296  -0.12118183  0.40972207 -0.04697049]\n",
      " [-0.42648076  0.23298657 -0.03079761  0.07006161]\n",
      " [ 0.05389482  0.31231072 -0.29457205 -0.26090224]\n",
      " [-0.1700845  -0.36102632 -0.08213576  0.21231844]\n",
      " [ 0.10196394 -0.12296317  0.10453624 -0.50064056]\n",
      " [ 0.27106696  0.24138382  0.05215203  0.23840622]]\n",
      "0.650207747761\n",
      "[[ 0.12984967 -0.2937383  -0.1437888  -0.1452936 ]\n",
      " [-0.14570877 -0.16398752 -0.15001531 -0.34023898]\n",
      " [-0.20080937  0.15989703  0.04088936 -0.25464867]\n",
      " [ 0.01938938 -0.31018501  0.19218186  0.40012208]\n",
      " [ 0.25959287  0.11603437 -0.14899348 -0.33699382]\n",
      " [-0.22173009  0.40872311 -0.08040006  0.05717582]\n",
      " [-0.29344679 -0.04663762  0.07519495  0.12989237]\n",
      " [ 0.10382438  0.27298986 -0.37476399  0.43422311]\n",
      " [-0.17126123 -0.4897097   0.4607885   0.14542327]\n",
      " [ 0.28274907  0.02061163  0.02457683  0.26243181]\n",
      " [ 0.22281662  0.25630241  0.34065222 -0.24583874]\n",
      " [-0.01014508  0.02507754 -0.27081319 -0.08201455]]\n",
      "0.221824232078\n",
      "[[-0.09198989 -0.20644106  0.34837956 -0.11019762]\n",
      " [-0.10137089 -0.33770163  0.10606511 -0.110714  ]\n",
      " [ 0.31684482 -0.17524697  0.02219556  0.23932672]\n",
      " [-0.06730599  0.38350105 -0.12509115  0.31844244]\n",
      " [ 0.21086115 -0.31342713 -0.21888227 -0.03241022]\n",
      " [ 0.16636808  0.35869802  0.14837699 -0.24715525]\n",
      " [-0.03165302  0.02687386  0.28995777 -0.18178756]\n",
      " [-0.31076918  0.29093665 -0.1286398  -0.37036933]\n",
      " [-0.09139623  0.17177741  0.22781139  0.42324102]\n",
      " [ 0.16535152  0.22490772 -0.32726686  0.11367244]\n",
      " [-0.37388828 -0.15187157 -0.34901833  0.18628164]\n",
      " [ 0.24101016 -0.35683543  0.046957   -0.2726773 ]]\n",
      "0.331214686705\n",
      "[[ 0.09687016  0.14898738 -0.31313129 -0.04066128]\n",
      " [-0.03567017  0.02310061  0.06783292  0.4013684 ]\n",
      " [-0.09655016  0.10112111  0.36870121  0.17765471]\n",
      " [-0.07252716 -0.32046771 -0.24148001  0.2508461 ]\n",
      " [ 0.27283183 -0.02581037  0.36860286 -0.26714074]\n",
      " [ 0.0170754   0.33599791  0.0706058  -0.34498882]\n",
      " [-0.15826258  0.05826515  0.12228066 -0.16474129]\n",
      " [ 0.41926496 -0.23256691  0.15405834  0.03370462]\n",
      " [ 0.25767202  0.23203979 -0.26646004  0.30672644]\n",
      " [-0.29875944 -0.38245557  0.07981571 -0.30182321]\n",
      " [-0.51947322  0.24279194 -0.11740146  0.14151159]\n",
      " [ 0.09934742 -0.19809074 -0.25702714 -0.20625773]]\n",
      "0.678184226961\n"
     ]
    }
   ],
   "source": [
    "sim2 = np.array([[0, 1, 4, 5, 3, 4, 2, 8, 8, 5, 7, 1],\n",
    "                [1, 0, 3, 8, 2, 6, 2, 7, 8, 8, 7, 2],\n",
    "                [4, 3, 0, 7, 2, 3, 3, 7, 8, 6, 4, 3],\n",
    "                [5, 8, 7, 0, 8, 9, 3, 8, 2, 2, 9, 5],\n",
    "                [3, 2, 2, 8, 0, 6, 4, 8, 9, 6, 4, 2],\n",
    "                [4, 6, 3, 9, 6, 0, 1, 3, 9, 8, 5, 3],\n",
    "                [2, 2, 3, 3, 4, 1, 0, 4, 3, 6, 7, 1],\n",
    "                [8, 7, 7, 8, 8, 3, 4, 0, 9, 6, 9, 5],\n",
    "                [8, 8, 8, 2, 9, 9, 3, 9, 0, 4, 9, 9],\n",
    "                [5, 8, 6, 2, 6, 8, 6, 6, 4, 0, 4, 3],\n",
    "                [7, 7, 4, 9, 4, 5, 7, 9, 9, 4, 0, 6],\n",
    "                [1, 2, 3, 5, 2, 3, 1, 5, 9, 3, 6, 0]])\n",
    "mds_2 = MDS(n_dimensions=4)\n",
    "b = mds_2.fit(sim2)\n"
   ]
  },
  {
   "cell_type": "code",
   "execution_count": 68,
   "metadata": {},
   "outputs": [
    {
     "data": {
      "text/plain": [
       "0.2218242320778083"
      ]
     },
     "execution_count": 68,
     "metadata": {},
     "output_type": "execute_result"
    }
   ],
   "source": [
    "b.stress"
   ]
  },
  {
   "cell_type": "code",
   "execution_count": null,
   "metadata": {},
   "outputs": [],
   "source": []
  },
  {
   "cell_type": "code",
   "execution_count": null,
   "metadata": {},
   "outputs": [],
   "source": []
  }
 ],
 "metadata": {
  "kernelspec": {
   "display_name": "Python 3",
   "language": "python",
   "name": "python3"
  },
  "language_info": {
   "codemirror_mode": {
    "name": "ipython",
    "version": 3
   },
   "file_extension": ".py",
   "mimetype": "text/x-python",
   "name": "python",
   "nbconvert_exporter": "python",
   "pygments_lexer": "ipython3",
   "version": "3.6.8"
  }
 },
 "nbformat": 4,
 "nbformat_minor": 2
}
